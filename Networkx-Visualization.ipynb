{
 "cells": [
  {
   "cell_type": "code",
   "execution_count": null,
   "id": "62596063",
   "metadata": {},
   "outputs": [],
   "source": [
    "!pip3 install -q git+https://github.com/pyg-team/pytorch_geometric.git"
   ]
  },
  {
   "cell_type": "code",
   "execution_count": null,
   "id": "108dd716",
   "metadata": {},
   "outputs": [],
   "source": [
    "!pip3 install -q pyg-lib torch-scatter torch-sparse torch-cluster torch-spline-conv torch-geometric -f https://data.pyg.org/whl/torch-1.13.0+cu117.html"
   ]
  },
  {
   "cell_type": "code",
   "execution_count": null,
   "id": "94f268aa",
   "metadata": {},
   "outputs": [],
   "source": [
    "!pip install -q pyg-lib git+https://github.com/pyg-team/pyg-lib.git torch-scatter torch-sparse torch-geometric"
   ]
  },
  {
   "cell_type": "code",
   "execution_count": null,
   "id": "8bc424f6",
   "metadata": {},
   "outputs": [],
   "source": [
    "import numpy as np\n",
    "import networkx as nx\n",
    "import matplotlib.pyplot as plt\n",
    "import pickle"
   ]
  },
  {
   "cell_type": "markdown",
   "id": "ea3f687f",
   "metadata": {},
   "source": [
    "This notebook was an attempt to get networkx to draw the graph. Due to time restrictions and the size of the images this notebook did not provide insite into this investigation."
   ]
  },
  {
   "cell_type": "code",
   "execution_count": null,
   "id": "38dd4410",
   "metadata": {},
   "outputs": [],
   "source": [
    "pixel_dict = {}"
   ]
  },
  {
   "cell_type": "code",
   "execution_count": null,
   "id": "07cc2cc3",
   "metadata": {},
   "outputs": [],
   "source": [
    "#file = \"benchmark_data/C4_flickr/tree.png\"\n",
    "#file = \"benchmark_data/C4_flickr/tree_copy.png\"\n",
    "#file = \"benchmark_data/C4_flickr/giraffe.png\"\n",
    "file = \"benchmark_data/C4_flickr/giraffe_copy.png\""
   ]
  },
  {
   "cell_type": "code",
   "execution_count": null,
   "id": "7f92dc9a",
   "metadata": {},
   "outputs": [],
   "source": [
    "dict_file = open(file+\".pkl\", 'rb')\n",
    "pixel_dict = pickle.load(dict_file)\n",
    "dict_file.close()"
   ]
  },
  {
   "cell_type": "code",
   "execution_count": null,
   "id": "b5b14b5c",
   "metadata": {},
   "outputs": [],
   "source": [
    "#data = np.load(file+\".npy\")"
   ]
  },
  {
   "cell_type": "code",
   "execution_count": null,
   "id": "7388267c",
   "metadata": {},
   "outputs": [],
   "source": [
    "#G = nx.from_numpy_array(data)\n",
    "#nx.draw_networkx(G, with_labels=True)"
   ]
  },
  {
   "cell_type": "code",
   "execution_count": null,
   "id": "f7ddebf4",
   "metadata": {},
   "outputs": [],
   "source": [
    "G = nx.Graph(pixel_dict)"
   ]
  },
  {
   "cell_type": "code",
   "execution_count": null,
   "id": "431b5588",
   "metadata": {},
   "outputs": [],
   "source": [
    "fig = plt.figure(1, figsize=(4096, 4096), dpi=16)\n",
    "nx.draw_networkx(G, with_labels=True)"
   ]
  },
  {
   "cell_type": "code",
   "execution_count": null,
   "id": "96c913ca",
   "metadata": {},
   "outputs": [],
   "source": []
  }
 ],
 "metadata": {
  "kernelspec": {
   "display_name": "Python 3 (ipykernel)",
   "language": "python",
   "name": "python3"
  },
  "language_info": {
   "codemirror_mode": {
    "name": "ipython",
    "version": 3
   },
   "file_extension": ".py",
   "mimetype": "text/x-python",
   "name": "python",
   "nbconvert_exporter": "python",
   "pygments_lexer": "ipython3",
   "version": "3.8.10"
  }
 },
 "nbformat": 4,
 "nbformat_minor": 5
}
