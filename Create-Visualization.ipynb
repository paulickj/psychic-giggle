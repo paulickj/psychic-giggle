{
 "cells": [
  {
   "cell_type": "code",
   "execution_count": null,
   "id": "62596063",
   "metadata": {},
   "outputs": [],
   "source": [
    "!pip3 install -q git+https://github.com/pyg-team/pytorch_geometric.git"
   ]
  },
  {
   "cell_type": "code",
   "execution_count": null,
   "id": "108dd716",
   "metadata": {},
   "outputs": [],
   "source": [
    "!pip3 install -q pyg-lib torch-scatter torch-sparse torch-cluster torch-spline-conv torch-geometric -f https://data.pyg.org/whl/torch-1.13.0+cu117.html"
   ]
  },
  {
   "cell_type": "code",
   "execution_count": null,
   "id": "94f268aa",
   "metadata": {},
   "outputs": [],
   "source": [
    "!pip install -q pyg-lib git+https://github.com/pyg-team/pyg-lib.git torch-scatter torch-sparse torch-geometric"
   ]
  },
  {
   "cell_type": "markdown",
   "id": "aa64cd7d",
   "metadata": {},
   "source": [
    "You don't need to run the pip installs that are above."
   ]
  },
  {
   "cell_type": "code",
   "execution_count": 1,
   "id": "8bc424f6",
   "metadata": {},
   "outputs": [],
   "source": [
    "import numpy as np\n",
    "import networkx as nx\n",
    "import matplotlib.pyplot as plt\n",
    "import pickle\n",
    "from PIL import Image"
   ]
  },
  {
   "cell_type": "code",
   "execution_count": 2,
   "id": "38dd4410",
   "metadata": {},
   "outputs": [],
   "source": [
    "pixel_dict = {}"
   ]
  },
  {
   "cell_type": "code",
   "execution_count": 3,
   "id": "07cc2cc3",
   "metadata": {},
   "outputs": [],
   "source": [
    "#file = \"benchmark_data/C4_flickr/tree.png\"\n",
    "#file = \"benchmark_data/C4_flickr/tree_copy.png\"\n",
    "#file = \"benchmark_data/C4_flickr/giraffe.png\"\n",
    "file = \"benchmark_data/C4_flickr/giraffe_copy.png\""
   ]
  },
  {
   "cell_type": "code",
   "execution_count": 4,
   "id": "7f92dc9a",
   "metadata": {},
   "outputs": [],
   "source": [
    "dict_file = open(file+\".pkl\", 'rb')\n",
    "pixel_dict = pickle.load(dict_file)\n",
    "dict_file.close()"
   ]
  },
  {
   "cell_type": "markdown",
   "id": "505e74ae",
   "metadata": {},
   "source": [
    "Since this was primarly focused on exploing the relationship between these pixels we have two seperate dictionaries. normalized_dict is where we store the averaged pixels. edited_dict stores the origional pixel subtracted by the averaged pixel color."
   ]
  },
  {
   "cell_type": "code",
   "execution_count": 5,
   "id": "d4e2c50a",
   "metadata": {},
   "outputs": [],
   "source": [
    "normalized_dict = {}"
   ]
  },
  {
   "cell_type": "code",
   "execution_count": 6,
   "id": "b5b14b5c",
   "metadata": {},
   "outputs": [],
   "source": [
    "edited_dict = {}"
   ]
  },
  {
   "cell_type": "markdown",
   "id": "e84d38b0",
   "metadata": {},
   "source": [
    "In this loop we find the average of the pixels. This is very similar to how a node can be predicted by its neighbors and part of where the inspiration came from. The results are stored in the dictionaries above."
   ]
  },
  {
   "cell_type": "code",
   "execution_count": 7,
   "id": "f7ddebf4",
   "metadata": {},
   "outputs": [],
   "source": [
    "for key in pixel_dict:\n",
    "    pixel = tuple(np.divide(sum(np.array(t) for t in pixel_dict[key]), len(pixel_dict[key])))\n",
    "    \n",
    "    tmp = tuple(map(round, pixel))\n",
    "    \n",
    "    edited_dict[key] = tuple(map(round, tuple(map(lambda p: max(0, p), np.subtract(key, pixel)))))\n",
    "    normalized_dict[tmp] = normalized_dict.get(tmp, []) + [key]\n",
    "    "
   ]
  },
  {
   "cell_type": "markdown",
   "id": "572ef253",
   "metadata": {},
   "source": [
    "In the cells below we are looking at how many lists of each length there are. Fundimentally if an image is resuing exact elements there will longer lengths. One thing to watch out for is landscape images with large open spaces. "
   ]
  },
  {
   "cell_type": "code",
   "execution_count": 8,
   "id": "d0cc827e",
   "metadata": {},
   "outputs": [],
   "source": [
    "dist = {}\n",
    "for key in normalized_dict:\n",
    "    tmp = normalized_dict[key]\n",
    "    dist[len(tmp)] = dist.get(len(tmp), 0) + 1"
   ]
  },
  {
   "cell_type": "code",
   "execution_count": 9,
   "id": "c4e99375",
   "metadata": {},
   "outputs": [
    {
     "name": "stdout",
     "output_type": "stream",
     "text": [
      "{1: 104669, 2: 8921, 3: 686, 4: 74, 5: 7, 7: 1} 7\n"
     ]
    }
   ],
   "source": [
    "print(dist, max(dist))"
   ]
  },
  {
   "cell_type": "code",
   "execution_count": 10,
   "id": "63086eb9",
   "metadata": {},
   "outputs": [],
   "source": [
    "dist2 = {}\n",
    "for key in edited_dict:\n",
    "    tmp = edited_dict[key]\n",
    "    dist2[len(tmp)] = dist2.get(len(tmp), 0) + 1"
   ]
  },
  {
   "cell_type": "code",
   "execution_count": 11,
   "id": "e7f49eb6",
   "metadata": {},
   "outputs": [
    {
     "name": "stdout",
     "output_type": "stream",
     "text": [
      "{3: 124907} 3\n"
     ]
    }
   ],
   "source": [
    "print(dist2, max(dist2))"
   ]
  },
  {
   "cell_type": "markdown",
   "id": "040a97fd",
   "metadata": {},
   "source": [
    "In this cell block we are creating a blacklist of pixel colors. This list is used to change the color of specific pixels later."
   ]
  },
  {
   "cell_type": "code",
   "execution_count": 12,
   "id": "ed34edbd",
   "metadata": {},
   "outputs": [
    {
     "name": "stdout",
     "output_type": "stream",
     "text": [
      "114357\n"
     ]
    }
   ],
   "source": [
    "count = 0\n",
    "l = set()\n",
    "for key in normalized_dict:\n",
    "    tmp = normalized_dict[key]\n",
    "    #5\n",
    "    if len(tmp) > 5:\n",
    "        l.update(tmp)\n",
    "    else: \n",
    "        count += 1\n",
    "        \n",
    "print(count)"
   ]
  },
  {
   "cell_type": "code",
   "execution_count": 13,
   "id": "564eba55",
   "metadata": {},
   "outputs": [
    {
     "name": "stdout",
     "output_type": "stream",
     "text": [
      "Pixels:  7\n"
     ]
    }
   ],
   "source": [
    "print(\"Pixels: \", len(l))"
   ]
  },
  {
   "cell_type": "code",
   "execution_count": 14,
   "id": "431b5588",
   "metadata": {},
   "outputs": [],
   "source": [
    "img = Image.open(file)"
   ]
  },
  {
   "cell_type": "code",
   "execution_count": 15,
   "id": "96c913ca",
   "metadata": {},
   "outputs": [],
   "source": [
    "width, height = img.size"
   ]
  },
  {
   "cell_type": "markdown",
   "id": "ce15a4fa",
   "metadata": {},
   "source": [
    "In this loop we update the picture to include the detection. For easy viewing I have specifically choosen a bright orange color, however it is super easy to change. With this setup we are able to see places where editing likely took place.\n",
    "\n",
    "If we uncomment out the img.putpixel we can normalize the entire photo. This removes some details if we are not careful."
   ]
  },
  {
   "cell_type": "code",
   "execution_count": 16,
   "id": "8ef6e51a",
   "metadata": {},
   "outputs": [],
   "source": [
    "for x in range(width):\n",
    "    for y in range(height):\n",
    "        #img.putpixel((x, y), normalized_dict[img.getpixel((x, y))])\n",
    "        # or\n",
    "        if img.getpixel((x, y)) in l:\n",
    "            img.putpixel((x, y), (240, 74, 0))"
   ]
  },
  {
   "cell_type": "markdown",
   "id": "654be2ef",
   "metadata": {},
   "source": [
    "Intrestingly if we edit the loop to be the following we can get a ruff boundary detection system. If using the cell above skip this cell."
   ]
  },
  {
   "cell_type": "code",
   "execution_count": null,
   "id": "b5b9f9f1",
   "metadata": {},
   "outputs": [],
   "source": [
    "for x in range(width):\n",
    "    for y in range(height):\n",
    "        if (edited_dict[img.getpixel((x, y))]) == (0,0,0):\n",
    "            img.putpixel((x, y), edited_dict[img.getpixel((x, y))])\n",
    "        else:\n",
    "            img.putpixel((x, y), (240, 74, 0))"
   ]
  },
  {
   "cell_type": "code",
   "execution_count": 17,
   "id": "a52cfa34",
   "metadata": {},
   "outputs": [],
   "source": [
    "img.save(file+\".png\")"
   ]
  },
  {
   "cell_type": "code",
   "execution_count": null,
   "id": "04460d9c",
   "metadata": {},
   "outputs": [],
   "source": []
  }
 ],
 "metadata": {
  "kernelspec": {
   "display_name": "Python 3 (ipykernel)",
   "language": "python",
   "name": "python3"
  },
  "language_info": {
   "codemirror_mode": {
    "name": "ipython",
    "version": 3
   },
   "file_extension": ".py",
   "mimetype": "text/x-python",
   "name": "python",
   "nbconvert_exporter": "python",
   "pygments_lexer": "ipython3",
   "version": "3.8.10"
  }
 },
 "nbformat": 4,
 "nbformat_minor": 5
}
