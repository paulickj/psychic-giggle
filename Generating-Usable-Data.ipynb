{
 "cells": [
  {
   "cell_type": "code",
   "execution_count": 1,
   "id": "35b7158e",
   "metadata": {},
   "outputs": [],
   "source": [
    "from PIL import Image\n",
    "import numpy as np\n",
    "import pandas as pd\n",
    "from collections import Counter\n",
    "import pickle"
   ]
  },
  {
   "cell_type": "markdown",
   "id": "354b03af",
   "metadata": {},
   "source": [
    "In this notebook we will be creating the dictionary of dictionaries (or in this case lists) to store the imbedings of the pixel. Specifically we are looking at the for cardinel directions for each pixel. To optimize this loading we only look at the pixel below and to the right. This allows us to ignore the bottom most row of pixels."
   ]
  },
  {
   "cell_type": "code",
   "execution_count": 2,
   "id": "7a160e0c",
   "metadata": {},
   "outputs": [],
   "source": [
    "#file = \"benchmark_data/C4_flickr/tree.png\"\n",
    "#file = \"benchmark_data/C4_flickr/tree_copy.png\"\n",
    "#file = \"benchmark_data/C4_flickr/giraffe.png\"\n",
    "file = \"benchmark_data/C4_flickr/giraffe_copy.png\""
   ]
  },
  {
   "cell_type": "code",
   "execution_count": 3,
   "id": "8c0a90a1",
   "metadata": {},
   "outputs": [],
   "source": [
    "img = Image.open(file)"
   ]
  },
  {
   "cell_type": "markdown",
   "id": "05dfee4f",
   "metadata": {},
   "source": [
    "We are specifically using a dictionary for the hash based indexing."
   ]
  },
  {
   "cell_type": "code",
   "execution_count": 4,
   "id": "c515a24a",
   "metadata": {},
   "outputs": [],
   "source": [
    "pixel_dict = {}"
   ]
  },
  {
   "cell_type": "code",
   "execution_count": 5,
   "id": "bb984e5e",
   "metadata": {},
   "outputs": [],
   "source": [
    "width, height = img.size"
   ]
  },
  {
   "cell_type": "code",
   "execution_count": 6,
   "id": "1242625e",
   "metadata": {},
   "outputs": [
    {
     "name": "stdout",
     "output_type": "stream",
     "text": [
      "425600\n"
     ]
    }
   ],
   "source": [
    "print(width*(height-1))"
   ]
  },
  {
   "cell_type": "markdown",
   "id": "32c443c5",
   "metadata": {},
   "source": [
    "As stated above we are trying to save the image as a dictionay. This involves getting each unique pixel value and its neighbors. The time complexity of this loop is O(n*m-1). "
   ]
  },
  {
   "cell_type": "code",
   "execution_count": 7,
   "id": "8f1569ea",
   "metadata": {},
   "outputs": [],
   "source": [
    "for x in range(width):\n",
    "    for y in range(height-1):\n",
    "        current = img.getpixel((x, y))\n",
    "        below = img.getpixel((x, y+1))\n",
    "        \n",
    "        if x == width-1:\n",
    "            pixel_dict[current] = pixel_dict.get(current, []) + [below]\n",
    "\n",
    "        else:\n",
    "            right = img.getpixel((x+1, y))\n",
    "            pixel_dict[current] = pixel_dict.get(current, []) + [right, below]\n",
    "            pixel_dict[right] = pixel_dict.get(right, []) + [current]\n",
    "            \n",
    "        pixel_dict[below] = pixel_dict.get(below, []) + [current]"
   ]
  },
  {
   "cell_type": "markdown",
   "id": "5adeb875",
   "metadata": {},
   "source": [
    "To save space we will keep this information as a dictionary of dictionaries and store it in a pickle file. Below is information for an arbratry file sample.jpg where multiple formats were tried.\n",
    "\n",
    "\n",
    "| File           | Size    | Size \\[MB\\] |\n",
    "|----------------|---------|-------------|\n",
    "| sample.jpg     | 98   kB | 0.098       |\n",
    "| sample.jpg.csv | 5.99 GB |  5990       |\n",
    "| sample.jpg.npy | 16.1 GB | 16100       |\n",
    "| sample.jpg.pkl | 18.1 MB | 18.1        |"
   ]
  },
  {
   "cell_type": "code",
   "execution_count": 8,
   "id": "d76f90db",
   "metadata": {},
   "outputs": [],
   "source": [
    "try:\n",
    "    dict_file = open(file+\".pkl\", 'wb')\n",
    "    pickle.dump(pixel_dict, dict_file)\n",
    "    dict_file.close()\n",
    "except:\n",
    "    print(\"Something went wrong\")"
   ]
  },
  {
   "cell_type": "code",
   "execution_count": null,
   "id": "28773d49",
   "metadata": {},
   "outputs": [],
   "source": []
  }
 ],
 "metadata": {
  "kernelspec": {
   "display_name": "Python 3 (ipykernel)",
   "language": "python",
   "name": "python3"
  },
  "language_info": {
   "codemirror_mode": {
    "name": "ipython",
    "version": 3
   },
   "file_extension": ".py",
   "mimetype": "text/x-python",
   "name": "python",
   "nbconvert_exporter": "python",
   "pygments_lexer": "ipython3",
   "version": "3.8.10"
  }
 },
 "nbformat": 4,
 "nbformat_minor": 5
}
