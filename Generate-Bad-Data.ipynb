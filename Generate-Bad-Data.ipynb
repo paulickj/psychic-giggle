{
 "cells": [
  {
   "cell_type": "code",
   "execution_count": null,
   "id": "35b7158e",
   "metadata": {},
   "outputs": [],
   "source": [
    "from PIL import Image\n",
    "import numpy as np\n",
    "import pandas as pd\n",
    "from collections import Counter"
   ]
  },
  {
   "cell_type": "markdown",
   "id": "354b03af",
   "metadata": {},
   "source": [
    "This notebook was an alternative to Generate-Usable-Data. Much of the code is the same except pixel_dict is a dictionary of dictionaries and the output is a adjacency matrix. Warning the CSV output will consume a significant amount of storage in comparison to the origional image. Recomended to used Generate-Usable-Data instead."
   ]
  },
  {
   "cell_type": "code",
   "execution_count": null,
   "id": "7a160e0c",
   "metadata": {},
   "outputs": [],
   "source": [
    "#file = \"benchmark_data/C4_flickr/tree.png\"\n",
    "#file = \"benchmark_data/C4_flickr/tree_copy.png\"\n",
    "#file = \"benchmark_data/C4_flickr/giraffe.png\"\n",
    "file = \"benchmark_data/C4_flickr/giraffe_copy.png\""
   ]
  },
  {
   "cell_type": "code",
   "execution_count": null,
   "id": "8c0a90a1",
   "metadata": {},
   "outputs": [],
   "source": [
    "img = Image.open(file)"
   ]
  },
  {
   "cell_type": "code",
   "execution_count": null,
   "id": "c515a24a",
   "metadata": {},
   "outputs": [],
   "source": [
    "pixel_dict = {}"
   ]
  },
  {
   "cell_type": "code",
   "execution_count": null,
   "id": "bb984e5e",
   "metadata": {},
   "outputs": [],
   "source": [
    "width, height = img.size"
   ]
  },
  {
   "cell_type": "markdown",
   "id": "32c443c5",
   "metadata": {},
   "source": [
    "O(n*m-1)"
   ]
  },
  {
   "cell_type": "code",
   "execution_count": null,
   "id": "8f1569ea",
   "metadata": {},
   "outputs": [],
   "source": [
    "for x in range(width):\n",
    "    for y in range(height-1):\n",
    "        current = img.getpixel((x, y))\n",
    "        below = img.getpixel((x, y+1))\n",
    "        \n",
    "        if x == width-1:\n",
    "            pixel_dict[current] = pixel_dict.get(current, []) + [below]\n",
    "\n",
    "        else:\n",
    "            right = img.getpixel((x+1, y))\n",
    "            pixel_dict[current] = pixel_dict.get(current, []) + [right, below]\n",
    "            pixel_dict[right] = pixel_dict.get(right, []) + [current]\n",
    "            \n",
    "        pixel_dict[below] = pixel_dict.get(below, []) + [current]"
   ]
  },
  {
   "cell_type": "code",
   "execution_count": null,
   "id": "15e8dbd8",
   "metadata": {},
   "outputs": [],
   "source": [
    "lookup_dict = {}"
   ]
  },
  {
   "cell_type": "code",
   "execution_count": null,
   "id": "d76f90db",
   "metadata": {},
   "outputs": [],
   "source": [
    "index = 0\n",
    "for key in pixel_dict:\n",
    "    pixel_dict[key] = dict(Counter(pixel_dict[key]))\n",
    "    lookup_dict[key] = index\n",
    "    index+=1"
   ]
  },
  {
   "cell_type": "code",
   "execution_count": null,
   "id": "67857e9d",
   "metadata": {},
   "outputs": [],
   "source": [
    "adj_matrix = []"
   ]
  },
  {
   "cell_type": "code",
   "execution_count": null,
   "id": "89c3e3c1",
   "metadata": {},
   "outputs": [],
   "source": [
    "for key in pixel_dict:\n",
    "    line = np.zeros(len(pixel_dict.keys()))\n",
    "    for pixel in pixel_dict[key]:\n",
    "        line[lookup_dict[pixel]] = pixel_dict[key][pixel]\n",
    "        \n",
    "    adj_matrix.append(line)"
   ]
  },
  {
   "cell_type": "code",
   "execution_count": null,
   "id": "a57baf71",
   "metadata": {},
   "outputs": [],
   "source": [
    "matrix = np.array(adj_matrix)"
   ]
  },
  {
   "cell_type": "code",
   "execution_count": null,
   "id": "4d1008fd",
   "metadata": {},
   "outputs": [],
   "source": [
    "#matrix"
   ]
  },
  {
   "cell_type": "code",
   "execution_count": null,
   "id": "145626b4",
   "metadata": {},
   "outputs": [],
   "source": [
    "#np.save(file+\".npy\", matrix)"
   ]
  },
  {
   "cell_type": "code",
   "execution_count": null,
   "id": "8b6f4b49",
   "metadata": {},
   "outputs": [],
   "source": [
    "matrix.tofile(file+\".csv\", sep = ',')"
   ]
  },
  {
   "cell_type": "code",
   "execution_count": null,
   "id": "a6fa23ee",
   "metadata": {},
   "outputs": [],
   "source": []
  }
 ],
 "metadata": {
  "kernelspec": {
   "display_name": "Python 3 (ipykernel)",
   "language": "python",
   "name": "python3"
  },
  "language_info": {
   "codemirror_mode": {
    "name": "ipython",
    "version": 3
   },
   "file_extension": ".py",
   "mimetype": "text/x-python",
   "name": "python",
   "nbconvert_exporter": "python",
   "pygments_lexer": "ipython3",
   "version": "3.8.10"
  }
 },
 "nbformat": 4,
 "nbformat_minor": 5
}
